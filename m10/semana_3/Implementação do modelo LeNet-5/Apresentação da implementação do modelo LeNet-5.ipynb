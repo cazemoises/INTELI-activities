{
  "cells": [
    {
      "cell_type": "markdown",
      "metadata": {
        "id": "ukGQD1PfuYsg"
      },
      "source": [
        "# Treinamento do Modelo LeNet-5 no Dataset MNIST"
      ]
    },
    {
      "cell_type": "markdown",
      "metadata": {
        "id": "uibPGa9kuxGO"
      },
      "source": [
        "Este notebook demonstra a implementação e treinamento de uma rede neural convolucional baseada na arquitetura LeNet-5 usando o dataset MNIST."
      ]
    },
    {
      "cell_type": "markdown",
      "metadata": {
        "id": "LyhB37u_uzAd"
      },
      "source": [
        "## Estrutura do Notebook\n",
        "\n",
        "1. Importações e Configurações\n",
        "2. Definição da Arquitetura LeNet-5\n",
        "3. Carregamento e Pré-processamento do Dataset\n",
        "4. Compilação e Treinamento do Modelo\n",
        "5. Avaliação e Visualização dos Resultados\n",
        "6. Considerações Finais\n"
      ]
    },
    {
      "cell_type": "markdown",
      "metadata": {
        "id": "Zjz3iLd6usWo"
      },
      "source": [
        "## 1. Importações e Configurações"
      ]
    },
    {
      "cell_type": "code",
      "execution_count": 9,
      "metadata": {
        "colab": {
          "base_uri": "https://localhost:8080/"
        },
        "id": "sPXfU6PeuMxo",
        "outputId": "72d209d7-9f5f-4771-c466-a774bc442de0"
      },
      "outputs": [],
      "source": [
        "# Importar pacotes necessários\n",
        "import tensorflow as tf\n",
        "from sklearn.metrics import classification_report\n",
        "from tensorflow.keras.models import Sequential\n",
        "from tensorflow.keras.layers import Conv2D, MaxPooling2D, Flatten, Dense, Activation\n",
        "from tensorflow.keras.utils import to_categorical\n",
        "from tensorflow.keras.optimizers import SGD\n",
        "from sklearn.model_selection import train_test_split\n",
        "from sklearn.datasets import fetch_openml\n",
        "import matplotlib.pyplot as plt\n",
        "import numpy as np"
      ]
    },
    {
      "cell_type": "code",
      "execution_count": 10,
      "metadata": {},
      "outputs": [
        {
          "name": "stdout",
          "output_type": "stream",
          "text": [
            "TensorFlow Version: 2.16.1\n",
            "GPU device not found\n"
          ]
        }
      ],
      "source": [
        "# Configuração para usar GPU no Google Colab\n",
        "print(f\"TensorFlow Version: {tf.__version__}\")\n",
        "device_name = tf.test.gpu_device_name()\n",
        "if device_name != '/device:GPU:0':\n",
        "    print('GPU device not found')\n",
        "else:\n",
        "    print('Found GPU at: {}'.format(device_name))"
      ]
    },
    {
      "cell_type": "markdown",
      "metadata": {
        "id": "LFOOrITmu4lw"
      },
      "source": [
        "## 2. Definição da Arquitetura LeNet-5"
      ]
    },
    {
      "cell_type": "markdown",
      "metadata": {
        "id": "ioLq7E4UvB6G"
      },
      "source": [
        "A arquitetura LeNet-5 é composta pelas seguintes camadas:\n",
        "\n",
        "1. Camada Convolucional 1: 6 filtros (5x5), ReLU, MaxPooling (2x2)\n",
        "2. Camada Convolucional 2: 16 filtros (5x5), ReLU, MaxPooling (2x2)\n",
        "3. Camada Flatten\n",
        "4. Camada Densa 1: 120 neurônios, ReLU\n",
        "5. Camada Densa 2: 84 neurônios, ReLU\n",
        "6. Camada de Saída: 10 neurônios, Softmax"
      ]
    },
    {
      "cell_type": "code",
      "execution_count": 11,
      "metadata": {
        "colab": {
          "base_uri": "https://localhost:8080/"
        },
        "id": "6IcLRvd3uqe0",
        "outputId": "092b1bf8-82e3-46ad-c031-1abc2bff2141"
      },
      "outputs": [
        {
          "name": "stderr",
          "output_type": "stream",
          "text": [
            "/home/caze/.pyenv/versions/3.12.3/lib/python3.12/site-packages/keras/src/layers/convolutional/base_conv.py:107: UserWarning: Do not pass an `input_shape`/`input_dim` argument to a layer. When using Sequential models, prefer using an `Input(shape)` object as the first layer in the model instead.\n",
            "  super().__init__(activity_regularizer=activity_regularizer, **kwargs)\n"
          ]
        },
        {
          "data": {
            "text/html": [
              "<pre style=\"white-space:pre;overflow-x:auto;line-height:normal;font-family:Menlo,'DejaVu Sans Mono',consolas,'Courier New',monospace\"><span style=\"font-weight: bold\">Model: \"sequential_1\"</span>\n",
              "</pre>\n"
            ],
            "text/plain": [
              "\u001b[1mModel: \"sequential_1\"\u001b[0m\n"
            ]
          },
          "metadata": {},
          "output_type": "display_data"
        },
        {
          "data": {
            "text/html": [
              "<pre style=\"white-space:pre;overflow-x:auto;line-height:normal;font-family:Menlo,'DejaVu Sans Mono',consolas,'Courier New',monospace\">┏━━━━━━━━━━━━━━━━━━━━━━━━━━━━━━━━━┳━━━━━━━━━━━━━━━━━━━━━━━━┳━━━━━━━━━━━━━━━┓\n",
              "┃<span style=\"font-weight: bold\"> Layer (type)                    </span>┃<span style=\"font-weight: bold\"> Output Shape           </span>┃<span style=\"font-weight: bold\">       Param # </span>┃\n",
              "┡━━━━━━━━━━━━━━━━━━━━━━━━━━━━━━━━━╇━━━━━━━━━━━━━━━━━━━━━━━━╇━━━━━━━━━━━━━━━┩\n",
              "│ conv2d_2 (<span style=\"color: #0087ff; text-decoration-color: #0087ff\">Conv2D</span>)               │ (<span style=\"color: #00d7ff; text-decoration-color: #00d7ff\">None</span>, <span style=\"color: #00af00; text-decoration-color: #00af00\">28</span>, <span style=\"color: #00af00; text-decoration-color: #00af00\">28</span>, <span style=\"color: #00af00; text-decoration-color: #00af00\">6</span>)      │           <span style=\"color: #00af00; text-decoration-color: #00af00\">156</span> │\n",
              "├─────────────────────────────────┼────────────────────────┼───────────────┤\n",
              "│ activation_5 (<span style=\"color: #0087ff; text-decoration-color: #0087ff\">Activation</span>)       │ (<span style=\"color: #00d7ff; text-decoration-color: #00d7ff\">None</span>, <span style=\"color: #00af00; text-decoration-color: #00af00\">28</span>, <span style=\"color: #00af00; text-decoration-color: #00af00\">28</span>, <span style=\"color: #00af00; text-decoration-color: #00af00\">6</span>)      │             <span style=\"color: #00af00; text-decoration-color: #00af00\">0</span> │\n",
              "├─────────────────────────────────┼────────────────────────┼───────────────┤\n",
              "│ max_pooling2d_2 (<span style=\"color: #0087ff; text-decoration-color: #0087ff\">MaxPooling2D</span>)  │ (<span style=\"color: #00d7ff; text-decoration-color: #00d7ff\">None</span>, <span style=\"color: #00af00; text-decoration-color: #00af00\">14</span>, <span style=\"color: #00af00; text-decoration-color: #00af00\">14</span>, <span style=\"color: #00af00; text-decoration-color: #00af00\">6</span>)      │             <span style=\"color: #00af00; text-decoration-color: #00af00\">0</span> │\n",
              "├─────────────────────────────────┼────────────────────────┼───────────────┤\n",
              "│ conv2d_3 (<span style=\"color: #0087ff; text-decoration-color: #0087ff\">Conv2D</span>)               │ (<span style=\"color: #00d7ff; text-decoration-color: #00d7ff\">None</span>, <span style=\"color: #00af00; text-decoration-color: #00af00\">10</span>, <span style=\"color: #00af00; text-decoration-color: #00af00\">10</span>, <span style=\"color: #00af00; text-decoration-color: #00af00\">16</span>)     │         <span style=\"color: #00af00; text-decoration-color: #00af00\">2,416</span> │\n",
              "├─────────────────────────────────┼────────────────────────┼───────────────┤\n",
              "│ activation_6 (<span style=\"color: #0087ff; text-decoration-color: #0087ff\">Activation</span>)       │ (<span style=\"color: #00d7ff; text-decoration-color: #00d7ff\">None</span>, <span style=\"color: #00af00; text-decoration-color: #00af00\">10</span>, <span style=\"color: #00af00; text-decoration-color: #00af00\">10</span>, <span style=\"color: #00af00; text-decoration-color: #00af00\">16</span>)     │             <span style=\"color: #00af00; text-decoration-color: #00af00\">0</span> │\n",
              "├─────────────────────────────────┼────────────────────────┼───────────────┤\n",
              "│ max_pooling2d_3 (<span style=\"color: #0087ff; text-decoration-color: #0087ff\">MaxPooling2D</span>)  │ (<span style=\"color: #00d7ff; text-decoration-color: #00d7ff\">None</span>, <span style=\"color: #00af00; text-decoration-color: #00af00\">5</span>, <span style=\"color: #00af00; text-decoration-color: #00af00\">5</span>, <span style=\"color: #00af00; text-decoration-color: #00af00\">16</span>)       │             <span style=\"color: #00af00; text-decoration-color: #00af00\">0</span> │\n",
              "├─────────────────────────────────┼────────────────────────┼───────────────┤\n",
              "│ flatten_1 (<span style=\"color: #0087ff; text-decoration-color: #0087ff\">Flatten</span>)             │ (<span style=\"color: #00d7ff; text-decoration-color: #00d7ff\">None</span>, <span style=\"color: #00af00; text-decoration-color: #00af00\">400</span>)            │             <span style=\"color: #00af00; text-decoration-color: #00af00\">0</span> │\n",
              "├─────────────────────────────────┼────────────────────────┼───────────────┤\n",
              "│ dense_3 (<span style=\"color: #0087ff; text-decoration-color: #0087ff\">Dense</span>)                 │ (<span style=\"color: #00d7ff; text-decoration-color: #00d7ff\">None</span>, <span style=\"color: #00af00; text-decoration-color: #00af00\">120</span>)            │        <span style=\"color: #00af00; text-decoration-color: #00af00\">48,120</span> │\n",
              "├─────────────────────────────────┼────────────────────────┼───────────────┤\n",
              "│ activation_7 (<span style=\"color: #0087ff; text-decoration-color: #0087ff\">Activation</span>)       │ (<span style=\"color: #00d7ff; text-decoration-color: #00d7ff\">None</span>, <span style=\"color: #00af00; text-decoration-color: #00af00\">120</span>)            │             <span style=\"color: #00af00; text-decoration-color: #00af00\">0</span> │\n",
              "├─────────────────────────────────┼────────────────────────┼───────────────┤\n",
              "│ dense_4 (<span style=\"color: #0087ff; text-decoration-color: #0087ff\">Dense</span>)                 │ (<span style=\"color: #00d7ff; text-decoration-color: #00d7ff\">None</span>, <span style=\"color: #00af00; text-decoration-color: #00af00\">84</span>)             │        <span style=\"color: #00af00; text-decoration-color: #00af00\">10,164</span> │\n",
              "├─────────────────────────────────┼────────────────────────┼───────────────┤\n",
              "│ activation_8 (<span style=\"color: #0087ff; text-decoration-color: #0087ff\">Activation</span>)       │ (<span style=\"color: #00d7ff; text-decoration-color: #00d7ff\">None</span>, <span style=\"color: #00af00; text-decoration-color: #00af00\">84</span>)             │             <span style=\"color: #00af00; text-decoration-color: #00af00\">0</span> │\n",
              "├─────────────────────────────────┼────────────────────────┼───────────────┤\n",
              "│ dense_5 (<span style=\"color: #0087ff; text-decoration-color: #0087ff\">Dense</span>)                 │ (<span style=\"color: #00d7ff; text-decoration-color: #00d7ff\">None</span>, <span style=\"color: #00af00; text-decoration-color: #00af00\">10</span>)             │           <span style=\"color: #00af00; text-decoration-color: #00af00\">850</span> │\n",
              "├─────────────────────────────────┼────────────────────────┼───────────────┤\n",
              "│ activation_9 (<span style=\"color: #0087ff; text-decoration-color: #0087ff\">Activation</span>)       │ (<span style=\"color: #00d7ff; text-decoration-color: #00d7ff\">None</span>, <span style=\"color: #00af00; text-decoration-color: #00af00\">10</span>)             │             <span style=\"color: #00af00; text-decoration-color: #00af00\">0</span> │\n",
              "└─────────────────────────────────┴────────────────────────┴───────────────┘\n",
              "</pre>\n"
            ],
            "text/plain": [
              "┏━━━━━━━━━━━━━━━━━━━━━━━━━━━━━━━━━┳━━━━━━━━━━━━━━━━━━━━━━━━┳━━━━━━━━━━━━━━━┓\n",
              "┃\u001b[1m \u001b[0m\u001b[1mLayer (type)                   \u001b[0m\u001b[1m \u001b[0m┃\u001b[1m \u001b[0m\u001b[1mOutput Shape          \u001b[0m\u001b[1m \u001b[0m┃\u001b[1m \u001b[0m\u001b[1m      Param #\u001b[0m\u001b[1m \u001b[0m┃\n",
              "┡━━━━━━━━━━━━━━━━━━━━━━━━━━━━━━━━━╇━━━━━━━━━━━━━━━━━━━━━━━━╇━━━━━━━━━━━━━━━┩\n",
              "│ conv2d_2 (\u001b[38;5;33mConv2D\u001b[0m)               │ (\u001b[38;5;45mNone\u001b[0m, \u001b[38;5;34m28\u001b[0m, \u001b[38;5;34m28\u001b[0m, \u001b[38;5;34m6\u001b[0m)      │           \u001b[38;5;34m156\u001b[0m │\n",
              "├─────────────────────────────────┼────────────────────────┼───────────────┤\n",
              "│ activation_5 (\u001b[38;5;33mActivation\u001b[0m)       │ (\u001b[38;5;45mNone\u001b[0m, \u001b[38;5;34m28\u001b[0m, \u001b[38;5;34m28\u001b[0m, \u001b[38;5;34m6\u001b[0m)      │             \u001b[38;5;34m0\u001b[0m │\n",
              "├─────────────────────────────────┼────────────────────────┼───────────────┤\n",
              "│ max_pooling2d_2 (\u001b[38;5;33mMaxPooling2D\u001b[0m)  │ (\u001b[38;5;45mNone\u001b[0m, \u001b[38;5;34m14\u001b[0m, \u001b[38;5;34m14\u001b[0m, \u001b[38;5;34m6\u001b[0m)      │             \u001b[38;5;34m0\u001b[0m │\n",
              "├─────────────────────────────────┼────────────────────────┼───────────────┤\n",
              "│ conv2d_3 (\u001b[38;5;33mConv2D\u001b[0m)               │ (\u001b[38;5;45mNone\u001b[0m, \u001b[38;5;34m10\u001b[0m, \u001b[38;5;34m10\u001b[0m, \u001b[38;5;34m16\u001b[0m)     │         \u001b[38;5;34m2,416\u001b[0m │\n",
              "├─────────────────────────────────┼────────────────────────┼───────────────┤\n",
              "│ activation_6 (\u001b[38;5;33mActivation\u001b[0m)       │ (\u001b[38;5;45mNone\u001b[0m, \u001b[38;5;34m10\u001b[0m, \u001b[38;5;34m10\u001b[0m, \u001b[38;5;34m16\u001b[0m)     │             \u001b[38;5;34m0\u001b[0m │\n",
              "├─────────────────────────────────┼────────────────────────┼───────────────┤\n",
              "│ max_pooling2d_3 (\u001b[38;5;33mMaxPooling2D\u001b[0m)  │ (\u001b[38;5;45mNone\u001b[0m, \u001b[38;5;34m5\u001b[0m, \u001b[38;5;34m5\u001b[0m, \u001b[38;5;34m16\u001b[0m)       │             \u001b[38;5;34m0\u001b[0m │\n",
              "├─────────────────────────────────┼────────────────────────┼───────────────┤\n",
              "│ flatten_1 (\u001b[38;5;33mFlatten\u001b[0m)             │ (\u001b[38;5;45mNone\u001b[0m, \u001b[38;5;34m400\u001b[0m)            │             \u001b[38;5;34m0\u001b[0m │\n",
              "├─────────────────────────────────┼────────────────────────┼───────────────┤\n",
              "│ dense_3 (\u001b[38;5;33mDense\u001b[0m)                 │ (\u001b[38;5;45mNone\u001b[0m, \u001b[38;5;34m120\u001b[0m)            │        \u001b[38;5;34m48,120\u001b[0m │\n",
              "├─────────────────────────────────┼────────────────────────┼───────────────┤\n",
              "│ activation_7 (\u001b[38;5;33mActivation\u001b[0m)       │ (\u001b[38;5;45mNone\u001b[0m, \u001b[38;5;34m120\u001b[0m)            │             \u001b[38;5;34m0\u001b[0m │\n",
              "├─────────────────────────────────┼────────────────────────┼───────────────┤\n",
              "│ dense_4 (\u001b[38;5;33mDense\u001b[0m)                 │ (\u001b[38;5;45mNone\u001b[0m, \u001b[38;5;34m84\u001b[0m)             │        \u001b[38;5;34m10,164\u001b[0m │\n",
              "├─────────────────────────────────┼────────────────────────┼───────────────┤\n",
              "│ activation_8 (\u001b[38;5;33mActivation\u001b[0m)       │ (\u001b[38;5;45mNone\u001b[0m, \u001b[38;5;34m84\u001b[0m)             │             \u001b[38;5;34m0\u001b[0m │\n",
              "├─────────────────────────────────┼────────────────────────┼───────────────┤\n",
              "│ dense_5 (\u001b[38;5;33mDense\u001b[0m)                 │ (\u001b[38;5;45mNone\u001b[0m, \u001b[38;5;34m10\u001b[0m)             │           \u001b[38;5;34m850\u001b[0m │\n",
              "├─────────────────────────────────┼────────────────────────┼───────────────┤\n",
              "│ activation_9 (\u001b[38;5;33mActivation\u001b[0m)       │ (\u001b[38;5;45mNone\u001b[0m, \u001b[38;5;34m10\u001b[0m)             │             \u001b[38;5;34m0\u001b[0m │\n",
              "└─────────────────────────────────┴────────────────────────┴───────────────┘\n"
            ]
          },
          "metadata": {},
          "output_type": "display_data"
        },
        {
          "data": {
            "text/html": [
              "<pre style=\"white-space:pre;overflow-x:auto;line-height:normal;font-family:Menlo,'DejaVu Sans Mono',consolas,'Courier New',monospace\"><span style=\"font-weight: bold\"> Total params: </span><span style=\"color: #00af00; text-decoration-color: #00af00\">61,706</span> (241.04 KB)\n",
              "</pre>\n"
            ],
            "text/plain": [
              "\u001b[1m Total params: \u001b[0m\u001b[38;5;34m61,706\u001b[0m (241.04 KB)\n"
            ]
          },
          "metadata": {},
          "output_type": "display_data"
        },
        {
          "data": {
            "text/html": [
              "<pre style=\"white-space:pre;overflow-x:auto;line-height:normal;font-family:Menlo,'DejaVu Sans Mono',consolas,'Courier New',monospace\"><span style=\"font-weight: bold\"> Trainable params: </span><span style=\"color: #00af00; text-decoration-color: #00af00\">61,706</span> (241.04 KB)\n",
              "</pre>\n"
            ],
            "text/plain": [
              "\u001b[1m Trainable params: \u001b[0m\u001b[38;5;34m61,706\u001b[0m (241.04 KB)\n"
            ]
          },
          "metadata": {},
          "output_type": "display_data"
        },
        {
          "data": {
            "text/html": [
              "<pre style=\"white-space:pre;overflow-x:auto;line-height:normal;font-family:Menlo,'DejaVu Sans Mono',consolas,'Courier New',monospace\"><span style=\"font-weight: bold\"> Non-trainable params: </span><span style=\"color: #00af00; text-decoration-color: #00af00\">0</span> (0.00 B)\n",
              "</pre>\n"
            ],
            "text/plain": [
              "\u001b[1m Non-trainable params: \u001b[0m\u001b[38;5;34m0\u001b[0m (0.00 B)\n"
            ]
          },
          "metadata": {},
          "output_type": "display_data"
        }
      ],
      "source": [
        "# Definição da classe LeNet-5\n",
        "class LeNet5:\n",
        "    @staticmethod\n",
        "    def build(width, height, depth, classes):\n",
        "        model = Sequential()\n",
        "        inputShape = (height, width, depth)\n",
        "\n",
        "        # Primeira camada CONV => RELU => POOL\n",
        "        model.add(Conv2D(6, (5, 5), padding=\"same\", input_shape=inputShape))\n",
        "        model.add(Activation(\"relu\"))\n",
        "        model.add(MaxPooling2D(pool_size=(2, 2), strides=(2, 2)))\n",
        "\n",
        "        # Segunda camada CONV => RELU => POOL\n",
        "        model.add(Conv2D(16, (5, 5)))\n",
        "        model.add(Activation(\"relu\"))\n",
        "        model.add(MaxPooling2D(pool_size=(2, 2), strides=(2, 2)))\n",
        "\n",
        "        # Camada Flatten => FC => RELU\n",
        "        model.add(Flatten())\n",
        "        model.add(Dense(120))\n",
        "        model.add(Activation(\"relu\"))\n",
        "\n",
        "        # Camada FC => RELU\n",
        "        model.add(Dense(84))\n",
        "        model.add(Activation(\"relu\"))\n",
        "\n",
        "        # Camada FC => SOFTMAX\n",
        "        model.add(Dense(classes))\n",
        "        model.add(Activation(\"softmax\"))\n",
        "\n",
        "        return model\n",
        "\n",
        "# Instanciar o modelo\n",
        "model = LeNet5.build(width=28, height=28, depth=1, classes=10)\n",
        "# Exibir um resumo do modelo\n",
        "model.summary()"
      ]
    },
    {
      "cell_type": "markdown",
      "metadata": {
        "id": "36_Pf0SfvH6U"
      },
      "source": [
        "## 3. Carregamento e pré-processamento do dataset MNIST"
      ]
    },
    {
      "cell_type": "markdown",
      "metadata": {
        "id": "JhXJ4AUjvNkL"
      },
      "source": [
        "O dataset MNIST contém imagens de dígitos manuscritos (0-9) e é comumente usado para treinar e testar algoritmos de aprendizado de máquina."
      ]
    },
    {
      "cell_type": "code",
      "execution_count": 12,
      "metadata": {
        "colab": {
          "base_uri": "https://localhost:8080/",
          "height": 387
        },
        "id": "UQrPY7M1vF5G",
        "outputId": "a339714c-9ed1-4790-e495-f1ee1a7c0b50"
      },
      "outputs": [],
      "source": [
        "# Carregar e preprocessar o dataset MNIST\n",
        "mnist = fetch_openml('mnist_784', version=1)\n",
        "data = mnist.data.to_numpy().reshape(-1, 28, 28, 1).astype('float32') / 255.0\n",
        "labels = to_categorical(mnist.target.astype('int'))\n",
        "\n",
        "# Dividir o dataset em treino e teste\n",
        "(trainX, testX, trainY, testY) = train_test_split(data, labels, test_size=0.25, random_state=42)"
      ]
    },
    {
      "cell_type": "markdown",
      "metadata": {
        "id": "TKp0mDiivQkR"
      },
      "source": [
        "## 4. Compilação e Treinamento do Modelo\n"
      ]
    },
    {
      "cell_type": "markdown",
      "metadata": {
        "id": "nkHjowluvSJS"
      },
      "source": [
        "\n",
        "Compilamos o modelo usando o otimizador SGD e a função de perda `categorical_crossentropy`. Treinaremos o modelo por 20 épocas.\n"
      ]
    },
    {
      "cell_type": "code",
      "execution_count": 13,
      "metadata": {
        "id": "1ZlSQLtQvUoj"
      },
      "outputs": [
        {
          "name": "stdout",
          "output_type": "stream",
          "text": [
            "[INFO] treinando a CNN...\n",
            "Epoch 1/20\n",
            "411/411 - 7s - 17ms/step - accuracy: 0.6401 - loss: 1.2283 - val_accuracy: 0.8171 - val_loss: 0.6006\n",
            "Epoch 2/20\n",
            "411/411 - 6s - 15ms/step - accuracy: 0.9081 - loss: 0.3092 - val_accuracy: 0.7643 - val_loss: 0.8807\n",
            "Epoch 3/20\n",
            "411/411 - 6s - 15ms/step - accuracy: 0.9339 - loss: 0.2196 - val_accuracy: 0.9201 - val_loss: 0.2603\n",
            "Epoch 4/20\n",
            "411/411 - 6s - 15ms/step - accuracy: 0.9482 - loss: 0.1722 - val_accuracy: 0.9542 - val_loss: 0.1532\n",
            "Epoch 5/20\n",
            "411/411 - 6s - 15ms/step - accuracy: 0.9562 - loss: 0.1443 - val_accuracy: 0.9586 - val_loss: 0.1385\n",
            "Epoch 6/20\n",
            "411/411 - 6s - 15ms/step - accuracy: 0.9619 - loss: 0.1256 - val_accuracy: 0.9527 - val_loss: 0.1569\n",
            "Epoch 7/20\n",
            "411/411 - 6s - 15ms/step - accuracy: 0.9662 - loss: 0.1112 - val_accuracy: 0.9653 - val_loss: 0.1164\n",
            "Epoch 8/20\n",
            "411/411 - 6s - 15ms/step - accuracy: 0.9700 - loss: 0.0994 - val_accuracy: 0.9672 - val_loss: 0.1108\n",
            "Epoch 9/20\n",
            "411/411 - 6s - 15ms/step - accuracy: 0.9722 - loss: 0.0905 - val_accuracy: 0.9505 - val_loss: 0.1576\n",
            "Epoch 10/20\n",
            "411/411 - 6s - 15ms/step - accuracy: 0.9747 - loss: 0.0838 - val_accuracy: 0.9662 - val_loss: 0.1101\n",
            "Epoch 11/20\n",
            "411/411 - 6s - 15ms/step - accuracy: 0.9764 - loss: 0.0772 - val_accuracy: 0.9678 - val_loss: 0.0971\n",
            "Epoch 12/20\n",
            "411/411 - 7s - 16ms/step - accuracy: 0.9774 - loss: 0.0738 - val_accuracy: 0.9691 - val_loss: 0.0924\n",
            "Epoch 13/20\n",
            "411/411 - 6s - 15ms/step - accuracy: 0.9791 - loss: 0.0692 - val_accuracy: 0.9743 - val_loss: 0.0831\n",
            "Epoch 14/20\n",
            "411/411 - 6s - 15ms/step - accuracy: 0.9803 - loss: 0.0650 - val_accuracy: 0.9716 - val_loss: 0.0845\n",
            "Epoch 15/20\n",
            "411/411 - 6s - 15ms/step - accuracy: 0.9811 - loss: 0.0624 - val_accuracy: 0.9666 - val_loss: 0.1010\n",
            "Epoch 16/20\n",
            "411/411 - 6s - 15ms/step - accuracy: 0.9822 - loss: 0.0596 - val_accuracy: 0.9759 - val_loss: 0.0721\n",
            "Epoch 17/20\n",
            "411/411 - 6s - 15ms/step - accuracy: 0.9830 - loss: 0.0571 - val_accuracy: 0.9610 - val_loss: 0.1282\n",
            "Epoch 18/20\n",
            "411/411 - 6s - 15ms/step - accuracy: 0.9834 - loss: 0.0547 - val_accuracy: 0.8831 - val_loss: 0.4235\n",
            "Epoch 19/20\n",
            "411/411 - 6s - 15ms/step - accuracy: 0.9840 - loss: 0.0543 - val_accuracy: 0.9700 - val_loss: 0.1000\n",
            "Epoch 20/20\n",
            "411/411 - 6s - 15ms/step - accuracy: 0.9846 - loss: 0.0512 - val_accuracy: 0.9788 - val_loss: 0.0666\n"
          ]
        }
      ],
      "source": [
        "# Compilar o modelo\n",
        "model.compile(optimizer=SGD(0.01), loss=\"categorical_crossentropy\", metrics=[\"accuracy\"])\n",
        "\n",
        "# Treinar o modelo\n",
        "print(\"[INFO] treinando a CNN...\")\n",
        "H = model.fit(trainX, trainY, validation_data=(testX, testY), epochs=20, batch_size=128, verbose=2)\n"
      ]
    },
    {
      "cell_type": "markdown",
      "metadata": {
        "id": "1HMoBdoNvVvq"
      },
      "source": [
        "## 5. Avaliação e Visualização dos Resultados\n",
        "\n"
      ]
    },
    {
      "cell_type": "markdown",
      "metadata": {
        "id": "zTzmEhUAvWqw"
      },
      "source": [
        "Vamos avaliar o desempenho do modelo e visualizar a perda e acurácia durante o treinamento.\n"
      ]
    },
    {
      "cell_type": "code",
      "execution_count": 14,
      "metadata": {
        "id": "oCF7kjKUvXkV"
      },
      "outputs": [
        {
          "name": "stdout",
          "output_type": "stream",
          "text": [
            "[INFO] avaliando a CNN...\n",
            "\u001b[1m137/137\u001b[0m \u001b[32m━━━━━━━━━━━━━━━━━━━━\u001b[0m\u001b[37m\u001b[0m \u001b[1m1s\u001b[0m 6ms/step\n",
            "              precision    recall  f1-score   support\n",
            "\n",
            "           0       0.99      0.98      0.99      1714\n",
            "           1       0.99      0.99      0.99      1977\n",
            "           2       0.97      0.98      0.98      1761\n",
            "           3       0.97      0.98      0.97      1806\n",
            "           4       0.99      0.96      0.98      1587\n",
            "           5       0.99      0.97      0.98      1607\n",
            "           6       0.98      1.00      0.99      1761\n",
            "           7       0.99      0.97      0.98      1878\n",
            "           8       0.97      0.98      0.98      1657\n",
            "           9       0.96      0.97      0.96      1752\n",
            "\n",
            "    accuracy                           0.98     17500\n",
            "   macro avg       0.98      0.98      0.98     17500\n",
            "weighted avg       0.98      0.98      0.98     17500\n",
            "\n"
          ]
        },
        {
          "data": {
            "image/png": "[encoded data removed]",
            "text/plain": [
              "<Figure size 640x480 with 1 Axes>"
            ]
          },
          "metadata": {},
          "output_type": "display_data"
        }
      ],
      "source": [
        "# Avaliar o modelo\n",
        "print(\"[INFO] avaliando a CNN...\")\n",
        "predictions = model.predict(testX, batch_size=128)\n",
        "print(classification_report(testY.argmax(axis=1), predictions.argmax(axis=1), target_names=[str(x) for x in range(10)]))\n",
        "\n",
        "# Plotar os resultados do treinamento\n",
        "plt.style.use(\"ggplot\")\n",
        "plt.figure()\n",
        "plt.plot(np.arange(0, 20), H.history[\"loss\"], label=\"train_loss\")\n",
        "plt.plot(np.arange(0, 20), H.history[\"val_loss\"], label=\"val_loss\")\n",
        "plt.plot(np.arange(0, 20), H.history[\"accuracy\"], label=\"train_acc\")\n",
        "plt.plot(np.arange(0, 20), H.history[\"val_accuracy\"], label=\"val_acc\")\n",
        "plt.title(\"Training Loss and Accuracy\")\n",
        "plt.xlabel(\"Epoch #\")\n",
        "plt.ylabel(\"Loss/Accuracy\")\n",
        "plt.legend()\n",
        "plt.show()\n"
      ]
    },
    {
      "cell_type": "markdown",
      "metadata": {
        "id": "ri1hsWquvYu_"
      },
      "source": [
        "## 6. Considerações Finais\n",
        "\n",
        "### Resultados Obtidos\n",
        "- A precisão do modelo nos dados de treino aumentou consistentemente a cada época, indicando que o modelo estava aprendendo com os dados fornecidos.\n",
        "- A precisão nos dados de validação também aumentou, mas apresentou algumas flutuações, o que pode indicar que o modelo começou a se ajustar muito aos dados de treino (overfitting).\n",
        "\n",
        "### Dificuldades de Implementação\n",
        "- **Compatibilidade de Bibliotecas**: Foi necessário ajustar as importações devido às mudanças nas versões das bibliotecas TensorFlow/Keras.\n",
        "- **Treinamento em CPU vs GPU**: O tempo de treinamento no Google Colab foi significativamente menor ao usar GPU em comparação com CPU.\n",
        "- **Preprocessamento de Dados**: O dataset MNIST precisou ser normalizado e reshaped para ser compatível com a entrada do modelo LeNet-5.\n",
        "\n",
        "### Conclusão\n",
        "Neste notebook, demonstramos a implementação e treinamento de uma rede neural convolucional baseada na arquitetura LeNet-5 utilizando o dataset MNIST. A arquitetura LeNet-5 mostrou-se eficaz, alcançando boa precisão tanto nos dados de treino quanto nos dados de validação.\n"
      ]
    }
  ],
  "metadata": {
    "colab": {
      "provenance": []
    },
    "kernelspec": {
      "display_name": "Python 3",
      "name": "python3"
    },
    "language_info": {
      "codemirror_mode": {
        "name": "ipython",
        "version": 3
      },
      "file_extension": ".py",
      "mimetype": "text/x-python",
      "name": "python",
      "nbconvert_exporter": "python",
      "pygments_lexer": "ipython3",
      "version": "3.12.3"
    }
  },
  "nbformat": 4,
  "nbformat_minor": 0
}
