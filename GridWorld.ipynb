{
  "nbformat": 4,
  "nbformat_minor": 0,
  "metadata": {
    "colab": {
      "provenance": []
    },
    "kernelspec": {
      "name": "python3",
      "display_name": "Python 3"
    },
    "language_info": {
      "name": "python"
    }
  },
  "cells": [
    {
      "cell_type": "markdown",
      "source": [
        "# OBS: Fiz algo simples, bem documentado (mais ou menos, não consegui colocar .md entre os métodos, mas dei o meu melhor)"
      ],
      "metadata": {
        "id": "23BSyZggGudU"
      }
    },
    {
      "cell_type": "code",
      "source": [
        "import numpy as np\n",
        "import matplotlib.pyplot as plt"
      ],
      "metadata": {
        "id": "Cpt9ExHPBANV"
      },
      "execution_count": 39,
      "outputs": []
    },
    {
      "cell_type": "markdown",
      "source": [
        "# Classe Gridworld\n",
        "Essa classe define uma grid onde um agente pode se mover. O ambiente inclui características como montanhas e areias movediças que afetam o movimento do agente e (consequentemente) sua recompensa. O grid é representado por uma matriz onde o valor em cada célula pode indicar valores como uma célula vazia, uma montanha, areia movediça, a posição inicial, ou o objetivo."
      ],
      "metadata": {
        "id": "jFj6mVPeBSb-"
      }
    },
    {
      "cell_type": "markdown",
      "source": [
        "## Inicialização\n",
        "O método `__init__` inicializa o ambiente com o tramanho da grid que for passado. Inicialmente o preenchimento é feito com vários zeros, representando células vazias. Também são definidos a posição inicial e o objetivo do agente, além de listas vazias pras montanhas e areias movediças.\n"
      ],
      "metadata": {
        "id": "6QvUVPALBsDH"
      }
    },
    {
      "cell_type": "code",
      "source": [
        "class Gridworld:\n",
        "    def __init__(self, size=8):\n",
        "        self.size = size\n",
        "        self.grid = np.zeros((size, size))\n",
        "        self.start = (0, 0)\n",
        "        self.goal = (size-1, size-1)\n",
        "        self.mountain_cells = []\n",
        "        self.quicksand_cells = []\n",
        "        self.position = self.start\n",
        "\n",
        "    def add_mountain(self, cell):\n",
        "        if cell not in self.mountain_cells:\n",
        "            self.mountain_cells.append(cell)\n",
        "            self.grid[cell] = -1\n",
        "\n",
        "    def add_quicksand(self, cell):\n",
        "        if cell not in self.quicksand_cells:\n",
        "            self.quicksand_cells.append(cell)\n",
        "            self.grid[cell] = -2\n",
        "\n",
        "    def set_start_goal(self, start, goal):\n",
        "        self.start = start\n",
        "        self.position = start\n",
        "        self.goal = goal\n",
        "        self.grid[start] = 0\n",
        "        self.grid[goal] = 0\n",
        "\n",
        "    def display(self):\n",
        "        plt.figure(figsize=(5,5))\n",
        "        plt.imshow(self.grid, cmap=\"viridis\")\n",
        "        plt.colorbar()\n",
        "        plt.show()\n",
        "\n",
        "    def get_actions(self, position):\n",
        "        actions = []\n",
        "        for delta in [(-1, 0), (1, 0), (0, -1), (0, 1)]:\n",
        "            new_position = (position[0] + delta[0], position[1] + delta[1])\n",
        "            if 0 <= new_position[0] < self.size and 0 <= new_position[1] < self.size:\n",
        "                actions.append(delta)\n",
        "        return actions\n",
        "\n",
        "    def get_reward(self, position, action):\n",
        "        new_position = (position[0] + action[0], position[1] + action[1])\n",
        "        if new_position in self.quicksand_cells:\n",
        "            return -100\n",
        "        elif new_position in self.mountain_cells:\n",
        "            return -1\n",
        "        elif new_position == self.goal:\n",
        "            return 100\n",
        "        else:\n",
        "            return -1\n",
        "\n",
        "    def move_agent(self, action):\n",
        "        new_position = (self.position[0] + action[0], self.position[1] + action[1])\n",
        "        if new_position in self.mountain_cells or not (0 <= new_position[0] < self.size and 0 <= new_position[1] < self.size):\n",
        "            return False\n",
        "        self.position = new_position\n",
        "        return True\n",
        "\n",
        "    def is_terminal(self):\n",
        "        return self.position in self.quicksand_cells or self.position == self.goal"
      ],
      "metadata": {
        "id": "QQL7TD6lBSt9"
      },
      "execution_count": 40,
      "outputs": []
    },
    {
      "cell_type": "markdown",
      "source": [
        "## Adicionar obstáculos\n",
        "Os métodos `add_mountain` e `add_quicksand` adicionam (respectivamente) montanhas e areias movediças, que vão afetar o agente na movimentação e nas recompensas também. Montanhas possuem um custo pra serem passadas (atravessadas), enquanto areias movediças têm uma penalidade maior e podem terminar o jogo\n"
      ],
      "metadata": {
        "id": "4ex_VIRzCZ7L"
      }
    },
    {
      "cell_type": "markdown",
      "source": [
        "## Definindo Início e Objetivo\n",
        "Com o método `set_start_goal` dá pra redefinir tanto as posições de início quanto o objetivo do agente, assim dá pra recriar tudo sem precisar instanciar de novo\n"
      ],
      "metadata": {
        "id": "0Lglv80ZDUoc"
      }
    },
    {
      "cell_type": "markdown",
      "source": [
        "## Visualização do Ambiente\n",
        "O método `display` é pra visualização. Cada tipo de célula é colorido com uma cor específica pra facilitar a identificação das montanhas, das areias movediças, da posição do agente, e do objetivo."
      ],
      "metadata": {
        "id": "4mX7eWg1CsCK"
      }
    },
    {
      "cell_type": "markdown",
      "source": [
        "## Ações Possíveis\n",
        "O método `get_actions` retorna uma lista de ações possíveis pro agente dada de uma determinada posição. Cada ação é representada como um deslocamento. Esse método é mais pra garantir que o agente não vá escapar dos limites da grid.\n"
      ],
      "metadata": {
        "id": "DStblAR0EERW"
      }
    },
    {
      "cell_type": "markdown",
      "source": [
        "## Recompensa\n",
        "O método `get_reward` calcula a recompensa da execução de uma ação a partir de uma posição específica. A recompensa vai variar de acordo com pra onde o agente vai se mover."
      ],
      "metadata": {
        "id": "CvLWr2pFEXvZ"
      }
    },
    {
      "cell_type": "markdown",
      "source": [
        "## Movimento e Condição Terminal\n",
        "O método `move_agent` **tenta** mover o agente com base em uma ação fornecida. O \"tenta\" foi propositalmente inserido aqui porque ele verifica se a ação é válida e atualiza a posição do agente. O `is_terminal` vê se ele chegou em um ponto terminal, seja areia movediça ou alcançando o objetivo"
      ],
      "metadata": {
        "id": "17p8y2ZkE37N"
      }
    },
    {
      "cell_type": "markdown",
      "source": [
        "# Criando e Manipulando o Ambiente\n",
        "Aqui é instanciado o ambiente `Gridworld`, adicionados os obstáculos, definidas as posições de início e objetivo, e então, com os métodos da classe, o agente é movido e então são verificadas as recompensas e condições de término do jogo.\n"
      ],
      "metadata": {
        "id": "YlWvsC1XFP0K"
      }
    },
    {
      "cell_type": "code",
      "execution_count": 41,
      "metadata": {
        "colab": {
          "base_uri": "https://localhost:8080/",
          "height": 944
        },
        "id": "dZh9L9_PAYZf",
        "outputId": "e8cd3452-7065-4364-bb8e-17754c8304c6"
      },
      "outputs": [
        {
          "output_type": "display_data",
          "data": {
            "text/plain": [
              "<Figure size 500x500 with 2 Axes>"
            ],
            "image/png": "[encoded data removed]"
          },
          "metadata": {}
        },
        {
          "output_type": "stream",
          "name": "stdout",
          "text": [
            "Movimento realizado para: (0, 1)\n",
            "Recompensa: -1\n",
            "Movido para: (0, 1)\n"
          ]
        },
        {
          "output_type": "display_data",
          "data": {
            "text/plain": [
              "<Figure size 500x500 with 2 Axes>"
            ],
            "image/png": "[encoded data removed]"
          },
          "metadata": {}
        },
        {
          "output_type": "stream",
          "name": "stdout",
          "text": [
            "Movido para: (1, 1)\n",
            "Jogo terminou na posição: (1, 1)\n"
          ]
        }
      ],
      "source": [
        "env = Gridworld()\n",
        "env.add_mountain((1, 2))\n",
        "env.add_mountain((2, 2))\n",
        "env.add_quicksand((1, 1))\n",
        "env.set_start_goal((0, 0), (7, 7))\n",
        "\n",
        "env.display()\n",
        "\n",
        "if env.move_agent((0, 1)):\n",
        "    print(\"Movimento realizado para:\", env.position)\n",
        "else:\n",
        "    print(\"Movimento inválido.\")\n",
        "\n",
        "action = (1, 0)\n",
        "env.move_agent(action)\n",
        "print(\"Recompensa:\", env.get_reward(env.position, action))\n",
        "\n",
        "env.move_agent((1, 0))\n",
        "if env.is_terminal():\n",
        "    print(\"O jogo terminou. Posição final do agente:\", env.position)\n",
        "\n",
        "env.position = env.start\n",
        "actions = [(0, 1), (1, 0), (0, 1), (1, 0)]\n",
        "\n",
        "for action in actions:\n",
        "    if env.move_agent(action):\n",
        "        print(\"Movido para:\", env.position)\n",
        "        if env.is_terminal():\n",
        "            print(\"Jogo terminou na posição:\", env.position)\n",
        "            break\n",
        "    else:\n",
        "        print(\"Movimento inválido com a ação:\", action)\n",
        "    env.display()"
      ]
    },
    {
      "cell_type": "code",
      "source": [],
      "metadata": {
        "id": "EygdfV5bHFHl"
      },
      "execution_count": null,
      "outputs": []
    }
  ]
}