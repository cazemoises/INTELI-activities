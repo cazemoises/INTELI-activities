{
  "cells": [
    {
      "cell_type": "markdown",
      "metadata": {
        "id": "nwxLFmquqJgd"
      },
      "source": [
        "# Installings"
      ]
    },
    {
      "cell_type": "code",
      "execution_count": 1,
      "metadata": {
        "colab": {
          "base_uri": "https://localhost:8080/"
        },
        "id": "6QO4mRhLoc5B",
        "outputId": "2e88ad64-d218-4613-a09f-16f4a2da8307"
      },
      "outputs": [
        {
          "name": "stdout",
          "output_type": "stream",
          "text": [
            "Requirement already satisfied: requests in c:\\users\\cazem\\appdata\\local\\programs\\python\\python311\\lib\\site-packages (2.31.0)\n",
            "Requirement already satisfied: opencv-python in c:\\users\\cazem\\appdata\\local\\programs\\python\\python311\\lib\\site-packages (4.9.0.80)\n",
            "Requirement already satisfied: numpy in c:\\users\\cazem\\appdata\\local\\programs\\python\\python311\\lib\\site-packages (1.26.4)\n",
            "Requirement already satisfied: pandas in c:\\users\\cazem\\appdata\\local\\programs\\python\\python311\\lib\\site-packages (2.2.1)\n",
            "Requirement already satisfied: charset-normalizer<4,>=2 in c:\\users\\cazem\\appdata\\local\\programs\\python\\python311\\lib\\site-packages (from requests) (3.3.2)\n",
            "Requirement already satisfied: idna<4,>=2.5 in c:\\users\\cazem\\appdata\\local\\programs\\python\\python311\\lib\\site-packages (from requests) (3.7)\n",
            "Requirement already satisfied: urllib3<3,>=1.21.1 in c:\\users\\cazem\\appdata\\local\\programs\\python\\python311\\lib\\site-packages (from requests) (2.2.1)\n",
            "Requirement already satisfied: certifi>=2017.4.17 in c:\\users\\cazem\\appdata\\local\\programs\\python\\python311\\lib\\site-packages (from requests) (2024.2.2)\n",
            "Requirement already satisfied: python-dateutil>=2.8.2 in c:\\users\\cazem\\appdata\\roaming\\python\\python311\\site-packages (from pandas) (2.9.0.post0)\n",
            "Requirement already satisfied: pytz>=2020.1 in c:\\users\\cazem\\appdata\\local\\programs\\python\\python311\\lib\\site-packages (from pandas) (2024.1)\n",
            "Requirement already satisfied: tzdata>=2022.7 in c:\\users\\cazem\\appdata\\local\\programs\\python\\python311\\lib\\site-packages (from pandas) (2024.1)\n",
            "Requirement already satisfied: six>=1.5 in c:\\users\\cazem\\appdata\\roaming\\python\\python311\\site-packages (from python-dateutil>=2.8.2->pandas) (1.16.0)\n",
            "Note: you may need to restart the kernel to use updated packages.\n"
          ]
        },
        {
          "name": "stderr",
          "output_type": "stream",
          "text": [
            "\n",
            "[notice] A new release of pip is available: 23.2.1 -> 24.0\n",
            "[notice] To update, run: python.exe -m pip install --upgrade pip\n"
          ]
        }
      ],
      "source": [
        "pip install requests opencv-python numpy pandas"
      ]
    },
    {
      "cell_type": "markdown",
      "metadata": {
        "id": "mM3kKUejqy2i"
      },
      "source": [
        "## Baixando as imagens"
      ]
    },
    {
      "cell_type": "code",
      "execution_count": 2,
      "metadata": {
        "id": "yx9cqCmSsrA0"
      },
      "outputs": [],
      "source": [
        "import pandas as pd\n",
        "import requests\n",
        "import cv2\n",
        "import unittest\n",
        "from PIL import Image\n",
        "from io import BytesIO\n",
        "import os"
      ]
    },
    {
      "cell_type": "markdown",
      "metadata": {
        "id": "92B7rM5RqS6I"
      },
      "source": [
        "Criei uma função pra baixar imagens e salvar os arquivos localmente"
      ]
    },
    {
      "cell_type": "code",
      "execution_count": 3,
      "metadata": {
        "id": "BpV4rS6jt61Y"
      },
      "outputs": [],
      "source": [
        "urls = [\n",
        "    'https://cdn.pixabay.com/photo/2017/02/20/18/03/cat-2083492_960_720.jpg',\n",
        "    'https://cdn.pixabay.com/photo/2015/04/23/22/00/tree-736885_960_720.jpg',\n",
        "    'https://cdn.pixabay.com/photo/2015/06/19/21/24/avenue-815297_960_720.jpg',\n",
        "    'https://cdn.pixabay.com/photo/2013/10/02/23/03/mountains-190055_960_720.jpg',\n",
        "    'https://cdn.pixabay.com/photo/2024/04/26/14/52/nuthatch-8722044_1280.jpg',\n",
        "    'https://cdn.pixabay.com/photo/2014/12/16/22/25/sunset-570881_960_720.jpg',\n",
        "    'https://cdn.pixabay.com/photo/2024/04/25/11/55/ai-generated-8719633_960_720.png',\n",
        "    'https://cdn.pixabay.com/photo/2015/12/01/20/28/road-1072823_960_720.jpg',\n",
        "    'https://cdn.pixabay.com/photo/2017/12/10/15/16/white-horse-3010129_960_720.jpg',\n",
        "    'https://cdn.pixabay.com/photo/2024/04/28/05/07/bird-8724812_960_720.jpg'\n",
        "]"
      ]
    },
    {
      "cell_type": "code",
      "execution_count": 4,
      "metadata": {
        "id": "GkLgtXCtq1Nu"
      },
      "outputs": [
        {
          "name": "stdout",
          "output_type": "stream",
          "text": [
            "Diretório 'c:\\Users\\cazem\\OneDrive\\Documentos\\Github\\INTELI-activities\\m10\\semana_2./images' criado.\n",
            "Imagem salva em: c:\\Users\\cazem\\OneDrive\\Documentos\\Github\\INTELI-activities\\m10\\semana_2./images\\image_0.jpg\n",
            "Imagem salva em: c:\\Users\\cazem\\OneDrive\\Documentos\\Github\\INTELI-activities\\m10\\semana_2./images\\image_1.jpg\n",
            "Imagem salva em: c:\\Users\\cazem\\OneDrive\\Documentos\\Github\\INTELI-activities\\m10\\semana_2./images\\image_2.jpg\n",
            "Imagem salva em: c:\\Users\\cazem\\OneDrive\\Documentos\\Github\\INTELI-activities\\m10\\semana_2./images\\image_3.jpg\n",
            "Imagem salva em: c:\\Users\\cazem\\OneDrive\\Documentos\\Github\\INTELI-activities\\m10\\semana_2./images\\image_4.jpg\n",
            "Imagem salva em: c:\\Users\\cazem\\OneDrive\\Documentos\\Github\\INTELI-activities\\m10\\semana_2./images\\image_5.jpg\n",
            "Imagem salva em: c:\\Users\\cazem\\OneDrive\\Documentos\\Github\\INTELI-activities\\m10\\semana_2./images\\image_6.jpg\n",
            "Imagem salva em: c:\\Users\\cazem\\OneDrive\\Documentos\\Github\\INTELI-activities\\m10\\semana_2./images\\image_7.jpg\n",
            "Imagem salva em: c:\\Users\\cazem\\OneDrive\\Documentos\\Github\\INTELI-activities\\m10\\semana_2./images\\image_8.jpg\n",
            "Imagem salva em: c:\\Users\\cazem\\OneDrive\\Documentos\\Github\\INTELI-activities\\m10\\semana_2./images\\image_9.jpg\n"
          ]
        }
      ],
      "source": [
        "def criar_diretorio_se_necessario(diretorio):\n",
        "    \"\"\"Cria um diretório se ele não existir.\"\"\"\n",
        "    if not os.path.exists(diretorio):\n",
        "        os.makedirs(diretorio)\n",
        "        print(f\"Diretório '{diretorio}' criado.\")\n",
        "    else:\n",
        "        print(f\"Diretório '{diretorio}' já existe.\")\n",
        "\n",
        "def baixar_imagem(url, diretorio, nome_arquivo):\n",
        "    \"\"\"Baixa uma imagem da URL especificada e a salva em um diretório.\"\"\"\n",
        "    try:\n",
        "        response = requests.get(url)\n",
        "        response.raise_for_status() \n",
        "        imagem = Image.open(BytesIO(response.content))\n",
        "        caminho_completo = os.path.join(diretorio, nome_arquivo)\n",
        "        imagem.save(caminho_completo)\n",
        "        print(f\"Imagem salva em: {caminho_completo}\")\n",
        "        return True\n",
        "    except requests.RequestException as e:\n",
        "        print(f\"Erro ao baixar a imagem de {url}: {e}\")\n",
        "        return False\n",
        "    except IOError as e:\n",
        "        print(f\"Erro ao salvar a imagem em {caminho_completo}: {e}\")\n",
        "        return False\n",
        "\n",
        "# Exemplo de uso:\n",
        "diretorio = os.getcwd() + './images'\n",
        "criar_diretorio_se_necessario(diretorio)\n",
        "for i, url in enumerate(urls):\n",
        "    baixar_imagem(url, diretorio, f\"image_{i}.jpg\")\n"
      ]
    },
    {
      "cell_type": "markdown",
      "metadata": {
        "id": "rFw-QelKrPFn"
      },
      "source": [
        "## Processamento"
      ]
    },
    {
      "cell_type": "markdown",
      "metadata": {
        "id": "95VVotjdrUvv"
      },
      "source": [
        "### Convertendo a escala de cinza"
      ]
    },
    {
      "cell_type": "code",
      "execution_count": 5,
      "metadata": {
        "id": "PXUkSUTYrT_D"
      },
      "outputs": [],
      "source": [
        "def converter_para_cinza(imagem_path):\n",
        "    imagem = cv2.imread(imagem_path)\n",
        "    return cv2.cvtColor(imagem, cv2.COLOR_BGR2GRAY) if imagem is not None else None\n"
      ]
    },
    {
      "cell_type": "markdown",
      "metadata": {
        "id": "kOueI0KarYYQ"
      },
      "source": [
        "### Redimensionamento de imagens"
      ]
    },
    {
      "cell_type": "code",
      "execution_count": 6,
      "metadata": {
        "id": "DzVMKUFdrYBR"
      },
      "outputs": [],
      "source": [
        "def redimensionar(imagem, escala=0.5):\n",
        "    altura = int(imagem.shape[0] * escala)\n",
        "    largura = int(imagem.shape[1] * escala)\n",
        "    dimensoes = (largura, altura)\n",
        "    return cv2.resize(imagem, dimensoes, interpolation=cv2.INTER_AREA) if imagem is not None else None"
      ]
    },
    {
      "cell_type": "markdown",
      "metadata": {
        "id": "9VsudrIIrbM8"
      },
      "source": [
        "### Detectando bordas"
      ]
    },
    {
      "cell_type": "code",
      "execution_count": 7,
      "metadata": {
        "id": "bFjFnKSnrcOb"
      },
      "outputs": [],
      "source": [
        "def detectar_bordas(imagem):\n",
        "    return cv2.Canny(imagem, 100, 200) if imagem is not None else None"
      ]
    },
    {
      "cell_type": "markdown",
      "metadata": {
        "id": "_Ac9FujCreat"
      },
      "source": [
        "### Aumento de contraste"
      ]
    },
    {
      "cell_type": "code",
      "execution_count": 8,
      "metadata": {
        "id": "StFO57ozrdKS"
      },
      "outputs": [],
      "source": [
        "def aumentar_contraste(imagem):\n",
        "    if imagem is None:\n",
        "        return None\n",
        "    lab = cv2.cvtColor(imagem, cv2.COLOR_BGR2LAB)\n",
        "    l, a, b = cv2.split(lab)\n",
        "    clahe = cv2.createCLAHE(clipLimit=3.0, tileGridSize=(8,8))\n",
        "    cl = clahe.apply(l)\n",
        "    limg = cv2.merge([cl, a, b])\n",
        "    return cv2.cvtColor(limg, cv2.COLOR_LAB2BGR)"
      ]
    },
    {
      "cell_type": "markdown",
      "metadata": {
        "id": "NVWK8_8driJ7"
      },
      "source": [
        "### Gaussian Blur"
      ]
    },
    {
      "cell_type": "code",
      "execution_count": 9,
      "metadata": {
        "id": "QXd331IqrgDU"
      },
      "outputs": [],
      "source": [
        "def aplicar_gaussian_blur(imagem):\n",
        "    return cv2.GaussianBlur(imagem, (5, 5), 0) if imagem is not None else None"
      ]
    },
    {
      "cell_type": "markdown",
      "metadata": {
        "id": "F0XmCa6trmms"
      },
      "source": [
        "### Rotacionando"
      ]
    },
    {
      "cell_type": "code",
      "execution_count": 10,
      "metadata": {
        "id": "28Yb5im9roPk"
      },
      "outputs": [],
      "source": [
        "def rotacionar_imagem(imagem, angulo=90):\n",
        "    altura, largura = imagem.shape[:2]\n",
        "    ponto_central = (largura//2, altura//2)\n",
        "    matriz_rotacao = cv2.getRotationMatrix2D(ponto_central, angulo, 1.0)\n",
        "    return cv2.warpAffine(imagem, matriz_rotacao, (largura, altura)) if imagem is not None else None"
      ]
    },
    {
      "cell_type": "markdown",
      "metadata": {
        "id": "nwsaG3bkrqFq"
      },
      "source": [
        "## Testes e Visualização"
      ]
    },
    {
      "cell_type": "code",
      "execution_count": 11,
      "metadata": {
        "colab": {
          "base_uri": "https://localhost:8080/"
        },
        "id": "OigyZ1q5tlht",
        "outputId": "840714de-a5b2-485b-ba28-01aede4abfbb"
      },
      "outputs": [],
      "source": [
        "dados = []\n",
        "image_paths = ['images/image_{}.jpg'.format(i) for i in range(len(urls))]\n",
        "for url, path in zip(urls, image_paths):\n",
        "  img_cinza = converter_para_cinza(path)\n",
        "  img_redimensionada = redimensionar(img_cinza)\n",
        "  img_bordas = detectar_bordas(img_redimensionada)\n",
        "  img_original = cv2.imread(path)\n",
        "  img_contraste = aumentar_contraste(img_original)\n",
        "  img_blur = aplicar_gaussian_blur(img_contraste)\n",
        "  img_rotacionada = rotacionar_imagem(img_original)\n",
        "  dados.append([path, img_cinza, img_redimensionada, img_bordas, img_contraste, img_blur, img_rotacionada])"
      ]
    },
    {
      "cell_type": "code",
      "execution_count": 12,
      "metadata": {
        "id": "TWdJ7ssSrox1"
      },
      "outputs": [],
      "source": [
        "df = pd.DataFrame(dados, columns=['Path', 'Cinza', 'Redimensionada', 'Bordas', 'Contraste', 'Blur', 'Rotacionada'])"
      ]
    },
    {
      "cell_type": "markdown",
      "metadata": {
        "id": "szyB1EBmsNlA"
      },
      "source": [
        "### Testes"
      ]
    },
    {
      "cell_type": "code",
      "execution_count": 13,
      "metadata": {
        "id": "03YroRafsGxj"
      },
      "outputs": [],
      "source": [
        "class TesteProcessamento(unittest.TestCase):\n",
        "    def test_redimensionamento(self):\n",
        "        for _, row in df.iterrows():\n",
        "            self.assertIsNotNone(row['Redimensionada'], \"Imagem redimensionada está vazia\")"
      ]
    },
    {
      "cell_type": "markdown",
      "metadata": {
        "id": "udoQpnwJsRQ3"
      },
      "source": [
        "### Visualização"
      ]
    },
    {
      "cell_type": "code",
      "execution_count": 14,
      "metadata": {
        "colab": {
          "base_uri": "https://localhost:8080/",
          "height": 293
        },
        "id": "CbmL20mtsPJS",
        "outputId": "572b1b8c-013b-482d-bef2-6d94a962186d"
      },
      "outputs": [
        {
          "name": "stderr",
          "output_type": "stream",
          "text": [
            ".\n",
            "----------------------------------------------------------------------\n",
            "Ran 1 test in 0.002s\n",
            "\n",
            "OK\n"
          ]
        },
        {
          "data": {
            "text/html": [
              "<div>\n",
              "<style scoped>\n",
              "    .dataframe tbody tr th:only-of-type {\n",
              "        vertical-align: middle;\n",
              "    }\n",
              "\n",
              "    .dataframe tbody tr th {\n",
              "        vertical-align: top;\n",
              "    }\n",
              "\n",
              "    .dataframe thead th {\n",
              "        text-align: right;\n",
              "    }\n",
              "</style>\n",
              "<table border=\"1\" class=\"dataframe\">\n",
              "  <thead>\n",
              "    <tr style=\"text-align: right;\">\n",
              "      <th></th>\n",
              "      <th>Path</th>\n",
              "      <th>Cinza</th>\n",
              "      <th>Redimensionada</th>\n",
              "      <th>Bordas</th>\n",
              "      <th>Contraste</th>\n",
              "      <th>Blur</th>\n",
              "      <th>Rotacionada</th>\n",
              "    </tr>\n",
              "  </thead>\n",
              "  <tbody>\n",
              "    <tr>\n",
              "      <th>0</th>\n",
              "      <td>images/image_0.jpg</td>\n",
              "      <td>[[33, 51, 70, 55, 32, 41, 41, 10, 18, 26, 29, ...</td>\n",
              "      <td>[[32, 52, 32, 28, 18, 25, 32, 33, 29, 34, 43, ...</td>\n",
              "      <td>[[0, 0, 0, 0, 0, 0, 0, 0, 0, 0, 0, 0, 0, 0, 0,...</td>\n",
              "      <td>[[[32, 63, 54], [64, 100, 89], [89, 125, 117],...</td>\n",
              "      <td>[[[32, 60, 50], [39, 68, 58], [49, 80, 70], [4...</td>\n",
              "      <td>[[[0, 0, 0], [0, 0, 0], [0, 0, 0], [0, 0, 0], ...</td>\n",
              "    </tr>\n",
              "    <tr>\n",
              "      <th>1</th>\n",
              "      <td>images/image_1.jpg</td>\n",
              "      <td>[[12, 13, 14, 16, 18, 20, 22, 23, 30, 32, 34, ...</td>\n",
              "      <td>[[13, 15, 19, 21, 29, 34, 34, 31, 26, 29, 25, ...</td>\n",
              "      <td>[[0, 0, 0, 0, 0, 0, 0, 0, 0, 0, 0, 0, 0, 0, 0,...</td>\n",
              "      <td>[[[24, 15, 9], [27, 15, 11], [28, 19, 17], [34...</td>\n",
              "      <td>[[[26, 16, 11], [27, 16, 13], [29, 19, 16], [3...</td>\n",
              "      <td>[[[0, 0, 0], [0, 0, 0], [0, 0, 0], [0, 0, 0], ...</td>\n",
              "    </tr>\n",
              "    <tr>\n",
              "      <th>2</th>\n",
              "      <td>images/image_2.jpg</td>\n",
              "      <td>[[8, 29, 12, 15, 60, 47, 83, 83, 84, 35, 11, 1...</td>\n",
              "      <td>[[15, 27, 51, 118, 67, 13, 14, 17, 16, 33, 13,...</td>\n",
              "      <td>[[255, 255, 255, 0, 255, 0, 0, 0, 0, 0, 0, 0, ...</td>\n",
              "      <td>[[[19, 27, 18], [65, 95, 72], [27, 40, 23], [3...</td>\n",
              "      <td>[[[45, 59, 44], [46, 61, 46], [55, 75, 58], [7...</td>\n",
              "      <td>[[[0, 0, 0], [0, 0, 0], [0, 0, 0], [0, 0, 0], ...</td>\n",
              "    </tr>\n",
              "    <tr>\n",
              "      <th>3</th>\n",
              "      <td>images/image_3.jpg</td>\n",
              "      <td>[[24, 25, 26, 27, 28, 28, 28, 28, 27, 26, 25, ...</td>\n",
              "      <td>[[25, 27, 28, 28, 27, 25, 24, 25, 25, 25, 25, ...</td>\n",
              "      <td>[[0, 0, 0, 0, 0, 0, 0, 0, 0, 0, 0, 0, 0, 0, 0,...</td>\n",
              "      <td>[[[33, 21, 10], [36, 24, 14], [38, 28, 14], [4...</td>\n",
              "      <td>[[[38, 27, 15], [38, 27, 16], [40, 28, 18], [4...</td>\n",
              "      <td>[[[0, 0, 0], [0, 0, 0], [0, 0, 0], [0, 0, 0], ...</td>\n",
              "    </tr>\n",
              "    <tr>\n",
              "      <th>4</th>\n",
              "      <td>images/image_4.jpg</td>\n",
              "      <td>[[90, 89, 89, 88, 88, 89, 89, 90, 89, 89, 89, ...</td>\n",
              "      <td>[[89, 88, 88, 89, 87, 88, 87, 85, 86, 86, 86, ...</td>\n",
              "      <td>[[0, 0, 0, 0, 0, 0, 0, 0, 0, 0, 0, 0, 0, 0, 0,...</td>\n",
              "      <td>[[[75, 91, 126], [71, 88, 121], [71, 88, 121],...</td>\n",
              "      <td>[[[68, 85, 119], [67, 85, 118], [66, 84, 116],...</td>\n",
              "      <td>[[[0, 0, 0], [0, 0, 0], [0, 0, 0], [0, 0, 0], ...</td>\n",
              "    </tr>\n",
              "  </tbody>\n",
              "</table>\n",
              "</div>"
            ],
            "text/plain": [
              "                 Path                                              Cinza  \\\n",
              "0  images/image_0.jpg  [[33, 51, 70, 55, 32, 41, 41, 10, 18, 26, 29, ...   \n",
              "1  images/image_1.jpg  [[12, 13, 14, 16, 18, 20, 22, 23, 30, 32, 34, ...   \n",
              "2  images/image_2.jpg  [[8, 29, 12, 15, 60, 47, 83, 83, 84, 35, 11, 1...   \n",
              "3  images/image_3.jpg  [[24, 25, 26, 27, 28, 28, 28, 28, 27, 26, 25, ...   \n",
              "4  images/image_4.jpg  [[90, 89, 89, 88, 88, 89, 89, 90, 89, 89, 89, ...   \n",
              "\n",
              "                                      Redimensionada  \\\n",
              "0  [[32, 52, 32, 28, 18, 25, 32, 33, 29, 34, 43, ...   \n",
              "1  [[13, 15, 19, 21, 29, 34, 34, 31, 26, 29, 25, ...   \n",
              "2  [[15, 27, 51, 118, 67, 13, 14, 17, 16, 33, 13,...   \n",
              "3  [[25, 27, 28, 28, 27, 25, 24, 25, 25, 25, 25, ...   \n",
              "4  [[89, 88, 88, 89, 87, 88, 87, 85, 86, 86, 86, ...   \n",
              "\n",
              "                                              Bordas  \\\n",
              "0  [[0, 0, 0, 0, 0, 0, 0, 0, 0, 0, 0, 0, 0, 0, 0,...   \n",
              "1  [[0, 0, 0, 0, 0, 0, 0, 0, 0, 0, 0, 0, 0, 0, 0,...   \n",
              "2  [[255, 255, 255, 0, 255, 0, 0, 0, 0, 0, 0, 0, ...   \n",
              "3  [[0, 0, 0, 0, 0, 0, 0, 0, 0, 0, 0, 0, 0, 0, 0,...   \n",
              "4  [[0, 0, 0, 0, 0, 0, 0, 0, 0, 0, 0, 0, 0, 0, 0,...   \n",
              "\n",
              "                                           Contraste  \\\n",
              "0  [[[32, 63, 54], [64, 100, 89], [89, 125, 117],...   \n",
              "1  [[[24, 15, 9], [27, 15, 11], [28, 19, 17], [34...   \n",
              "2  [[[19, 27, 18], [65, 95, 72], [27, 40, 23], [3...   \n",
              "3  [[[33, 21, 10], [36, 24, 14], [38, 28, 14], [4...   \n",
              "4  [[[75, 91, 126], [71, 88, 121], [71, 88, 121],...   \n",
              "\n",
              "                                                Blur  \\\n",
              "0  [[[32, 60, 50], [39, 68, 58], [49, 80, 70], [4...   \n",
              "1  [[[26, 16, 11], [27, 16, 13], [29, 19, 16], [3...   \n",
              "2  [[[45, 59, 44], [46, 61, 46], [55, 75, 58], [7...   \n",
              "3  [[[38, 27, 15], [38, 27, 16], [40, 28, 18], [4...   \n",
              "4  [[[68, 85, 119], [67, 85, 118], [66, 84, 116],...   \n",
              "\n",
              "                                         Rotacionada  \n",
              "0  [[[0, 0, 0], [0, 0, 0], [0, 0, 0], [0, 0, 0], ...  \n",
              "1  [[[0, 0, 0], [0, 0, 0], [0, 0, 0], [0, 0, 0], ...  \n",
              "2  [[[0, 0, 0], [0, 0, 0], [0, 0, 0], [0, 0, 0], ...  \n",
              "3  [[[0, 0, 0], [0, 0, 0], [0, 0, 0], [0, 0, 0], ...  \n",
              "4  [[[0, 0, 0], [0, 0, 0], [0, 0, 0], [0, 0, 0], ...  "
            ]
          },
          "execution_count": 14,
          "metadata": {},
          "output_type": "execute_result"
        }
      ],
      "source": [
        "if __name__ == '__main__':\n",
        "    unittest.main(argv=['first-arg-is-ignored'], exit=False)\n",
        "\n",
        "df.head()"
      ]
    }
  ],
  "metadata": {
    "colab": {
      "provenance": []
    },
    "kernelspec": {
      "display_name": "Python 3",
      "name": "python3"
    },
    "language_info": {
      "codemirror_mode": {
        "name": "ipython",
        "version": 3
      },
      "file_extension": ".py",
      "mimetype": "text/x-python",
      "name": "python",
      "nbconvert_exporter": "python",
      "pygments_lexer": "ipython3",
      "version": "3.11.7"
    }
  },
  "nbformat": 4,
  "nbformat_minor": 0
}
