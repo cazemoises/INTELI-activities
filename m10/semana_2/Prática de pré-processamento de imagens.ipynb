{
  "cells": [
    {
      "cell_type": "markdown",
      "metadata": {
        "id": "nwxLFmquqJgd"
      },
      "source": [
        "# Installings"
      ]
    },
    {
      "cell_type": "code",
      "execution_count": null,
      "metadata": {
        "colab": {
          "base_uri": "https://localhost:8080/"
        },
        "id": "6QO4mRhLoc5B",
        "outputId": "2e88ad64-d218-4613-a09f-16f4a2da8307"
      },
      "outputs": [
        {
          "ename": "",
          "evalue": "",
          "output_type": "error",
          "traceback": [
            "\u001b[1;31mRunning cells with 'Python 3.11.7' requires the ipykernel package.\n",
            "\u001b[1;31mRun the following command to install 'ipykernel' into the Python environment. \n",
            "\u001b[1;31mCommand: 'c:/Users/cazem/AppData/Local/Programs/Python/Python311/python.exe -m pip install ipykernel -U --user --force-reinstall'"
          ]
        }
      ],
      "source": [
        "pip install requests opencv-python numpy pandas"
      ]
    },
    {
      "cell_type": "markdown",
      "metadata": {
        "id": "mM3kKUejqy2i"
      },
      "source": [
        "## Baixando as imagens"
      ]
    },
    {
      "cell_type": "code",
      "execution_count": null,
      "metadata": {
        "id": "yx9cqCmSsrA0"
      },
      "outputs": [
        {
          "ename": "",
          "evalue": "",
          "output_type": "error",
          "traceback": [
            "\u001b[1;31mRunning cells with 'Python 3.11.7' requires the ipykernel package.\n",
            "\u001b[1;31mRun the following command to install 'ipykernel' into the Python environment. \n",
            "\u001b[1;31mCommand: 'c:/Users/cazem/AppData/Local/Programs/Python/Python311/python.exe -m pip install ipykernel -U --user --force-reinstall'"
          ]
        }
      ],
      "source": [
        "import pandas as pd\n",
        "import requests\n",
        "import cv2\n",
        "import unittest\n",
        "from PIL import Image\n",
        "from io import BytesIO\n",
        "import os"
      ]
    },
    {
      "cell_type": "markdown",
      "metadata": {
        "id": "92B7rM5RqS6I"
      },
      "source": [
        "Criei uma função pra baixar imagens e salvar os arquivos localmente"
      ]
    },
    {
      "cell_type": "code",
      "execution_count": null,
      "metadata": {
        "id": "BpV4rS6jt61Y"
      },
      "outputs": [
        {
          "ename": "",
          "evalue": "",
          "output_type": "error",
          "traceback": [
            "\u001b[1;31mRunning cells with 'Python 3.11.7' requires the ipykernel package.\n",
            "\u001b[1;31mRun the following command to install 'ipykernel' into the Python environment. \n",
            "\u001b[1;31mCommand: 'c:/Users/cazem/AppData/Local/Programs/Python/Python311/python.exe -m pip install ipykernel -U --user --force-reinstall'"
          ]
        }
      ],
      "source": [
        "urls = [\n",
        "    'https://cdn.pixabay.com/photo/2017/02/20/18/03/cat-2083492_960_720.jpg',\n",
        "    'https://cdn.pixabay.com/photo/2015/04/23/22/00/tree-736885_960_720.jpg',\n",
        "    'https://cdn.pixabay.com/photo/2015/06/19/21/24/avenue-815297_960_720.jpg',\n",
        "    'https://cdn.pixabay.com/photo/2013/10/02/23/03/mountains-190055_960_720.jpg',\n",
        "    'https://cdn.pixabay.com/photo/2024/04/26/14/52/nuthatch-8722044_1280.jpg',\n",
        "    'https://cdn.pixabay.com/photo/2014/12/16/22/25/sunset-570881_960_720.jpg',\n",
        "    'https://cdn.pixabay.com/photo/2024/04/25/11/55/ai-generated-8719633_960_720.png',\n",
        "    'https://cdn.pixabay.com/photo/2015/12/01/20/28/road-1072823_960_720.jpg',\n",
        "    'https://cdn.pixabay.com/photo/2017/12/10/15/16/white-horse-3010129_960_720.jpg',\n",
        "    'https://cdn.pixabay.com/photo/2024/04/28/05/07/bird-8724812_960_720.jpg'\n",
        "]"
      ]
    },
    {
      "cell_type": "code",
      "execution_count": null,
      "metadata": {
        "id": "GkLgtXCtq1Nu"
      },
      "outputs": [
        {
          "ename": "",
          "evalue": "",
          "output_type": "error",
          "traceback": [
            "\u001b[1;31mRunning cells with 'Python 3.11.7' requires the ipykernel package.\n",
            "\u001b[1;31mRun the following command to install 'ipykernel' into the Python environment. \n",
            "\u001b[1;31mCommand: 'c:/Users/cazem/AppData/Local/Programs/Python/Python311/python.exe -m pip install ipykernel -U --user --force-reinstall'"
          ]
        }
      ],
      "source": [
        "def criar_diretorio_se_necessario(diretorio):\n",
        "    \"\"\"Cria um diretório se ele não existir.\"\"\"\n",
        "    if not os.path.exists(diretorio):\n",
        "        os.makedirs(diretorio)\n",
        "        print(f\"Diretório '{diretorio}' criado.\")\n",
        "    else:\n",
        "        print(f\"Diretório '{diretorio}' já existe.\")\n",
        "\n",
        "def baixar_imagem(url, diretorio, nome_arquivo):\n",
        "    \"\"\"Baixa uma imagem da URL especificada e a salva em um diretório.\"\"\"\n",
        "    try:\n",
        "        response = requests.get(url)\n",
        "        response.raise_for_status() \n",
        "        imagem = Image.open(BytesIO(response.content))\n",
        "        caminho_completo = os.path.join(diretorio, nome_arquivo)\n",
        "        imagem.save(caminho_completo)\n",
        "        print(f\"Imagem salva em: {caminho_completo}\")\n",
        "        return True\n",
        "    except requests.RequestException as e:\n",
        "        print(f\"Erro ao baixar a imagem de {url}: {e}\")\n",
        "        return False\n",
        "    except IOError as e:\n",
        "        print(f\"Erro ao salvar a imagem em {caminho_completo}: {e}\")\n",
        "        return False\n",
        "\n",
        "# Exemplo de uso:\n",
        "diretorio = os.getcwd() + './images'\n",
        "criar_diretorio_se_necessario(diretorio)\n",
        "for i, url in enumerate(urls):\n",
        "    baixar_imagem(url, diretorio, f\"image_{i}.jpg\")\n"
      ]
    },
    {
      "cell_type": "markdown",
      "metadata": {
        "id": "rFw-QelKrPFn"
      },
      "source": [
        "## Processamento"
      ]
    },
    {
      "cell_type": "markdown",
      "metadata": {
        "id": "95VVotjdrUvv"
      },
      "source": [
        "### Convertendo a escala de cinza"
      ]
    },
    {
      "cell_type": "code",
      "execution_count": null,
      "metadata": {
        "id": "PXUkSUTYrT_D"
      },
      "outputs": [
        {
          "ename": "",
          "evalue": "",
          "output_type": "error",
          "traceback": [
            "\u001b[1;31mRunning cells with 'Python 3.11.7' requires the ipykernel package.\n",
            "\u001b[1;31mRun the following command to install 'ipykernel' into the Python environment. \n",
            "\u001b[1;31mCommand: 'c:/Users/cazem/AppData/Local/Programs/Python/Python311/python.exe -m pip install ipykernel -U --user --force-reinstall'"
          ]
        }
      ],
      "source": [
        "def converter_para_cinza(imagem_path):\n",
        "    imagem = cv2.imread(imagem_path)\n",
        "    return cv2.cvtColor(imagem, cv2.COLOR_BGR2GRAY) if imagem is not None else None\n"
      ]
    },
    {
      "cell_type": "markdown",
      "metadata": {
        "id": "kOueI0KarYYQ"
      },
      "source": [
        "### Redimensionamento de imagens"
      ]
    },
    {
      "cell_type": "code",
      "execution_count": null,
      "metadata": {
        "id": "DzVMKUFdrYBR"
      },
      "outputs": [
        {
          "ename": "",
          "evalue": "",
          "output_type": "error",
          "traceback": [
            "\u001b[1;31mRunning cells with 'Python 3.11.7' requires the ipykernel package.\n",
            "\u001b[1;31mRun the following command to install 'ipykernel' into the Python environment. \n",
            "\u001b[1;31mCommand: 'c:/Users/cazem/AppData/Local/Programs/Python/Python311/python.exe -m pip install ipykernel -U --user --force-reinstall'"
          ]
        }
      ],
      "source": [
        "def redimensionar(imagem, escala=0.5):\n",
        "    altura = int(imagem.shape[0] * escala)\n",
        "    largura = int(imagem.shape[1] * escala)\n",
        "    dimensoes = (largura, altura)\n",
        "    return cv2.resize(imagem, dimensoes, interpolation=cv2.INTER_AREA) if imagem is not None else None"
      ]
    },
    {
      "cell_type": "markdown",
      "metadata": {
        "id": "9VsudrIIrbM8"
      },
      "source": [
        "### Detectando bordas"
      ]
    },
    {
      "cell_type": "code",
      "execution_count": null,
      "metadata": {
        "id": "bFjFnKSnrcOb"
      },
      "outputs": [
        {
          "ename": "",
          "evalue": "",
          "output_type": "error",
          "traceback": [
            "\u001b[1;31mRunning cells with 'Python 3.11.7' requires the ipykernel package.\n",
            "\u001b[1;31mRun the following command to install 'ipykernel' into the Python environment. \n",
            "\u001b[1;31mCommand: 'c:/Users/cazem/AppData/Local/Programs/Python/Python311/python.exe -m pip install ipykernel -U --user --force-reinstall'"
          ]
        }
      ],
      "source": [
        "def detectar_bordas(imagem):\n",
        "    return cv2.Canny(imagem, 100, 200) if imagem is not None else None"
      ]
    },
    {
      "cell_type": "markdown",
      "metadata": {
        "id": "_Ac9FujCreat"
      },
      "source": [
        "### Aumento de contraste"
      ]
    },
    {
      "cell_type": "code",
      "execution_count": null,
      "metadata": {
        "id": "StFO57ozrdKS"
      },
      "outputs": [
        {
          "ename": "",
          "evalue": "",
          "output_type": "error",
          "traceback": [
            "\u001b[1;31mRunning cells with 'Python 3.11.7' requires the ipykernel package.\n",
            "\u001b[1;31mRun the following command to install 'ipykernel' into the Python environment. \n",
            "\u001b[1;31mCommand: 'c:/Users/cazem/AppData/Local/Programs/Python/Python311/python.exe -m pip install ipykernel -U --user --force-reinstall'"
          ]
        }
      ],
      "source": [
        "def aumentar_contraste(imagem):\n",
        "    if imagem is None:\n",
        "        return None\n",
        "    lab = cv2.cvtColor(imagem, cv2.COLOR_BGR2LAB)\n",
        "    l, a, b = cv2.split(lab)\n",
        "    clahe = cv2.createCLAHE(clipLimit=3.0, tileGridSize=(8,8))\n",
        "    cl = clahe.apply(l)\n",
        "    limg = cv2.merge([cl, a, b])\n",
        "    return cv2.cvtColor(limg, cv2.COLOR_LAB2BGR)"
      ]
    },
    {
      "cell_type": "markdown",
      "metadata": {
        "id": "NVWK8_8driJ7"
      },
      "source": [
        "### Gaussian Blur"
      ]
    },
    {
      "cell_type": "code",
      "execution_count": null,
      "metadata": {
        "id": "QXd331IqrgDU"
      },
      "outputs": [
        {
          "ename": "",
          "evalue": "",
          "output_type": "error",
          "traceback": [
            "\u001b[1;31mRunning cells with 'Python 3.11.7' requires the ipykernel package.\n",
            "\u001b[1;31mRun the following command to install 'ipykernel' into the Python environment. \n",
            "\u001b[1;31mCommand: 'c:/Users/cazem/AppData/Local/Programs/Python/Python311/python.exe -m pip install ipykernel -U --user --force-reinstall'"
          ]
        }
      ],
      "source": [
        "def aplicar_gaussian_blur(imagem):\n",
        "    return cv2.GaussianBlur(imagem, (5, 5), 0) if imagem is not None else None"
      ]
    },
    {
      "cell_type": "markdown",
      "metadata": {
        "id": "F0XmCa6trmms"
      },
      "source": [
        "### Rotacionando"
      ]
    },
    {
      "cell_type": "code",
      "execution_count": null,
      "metadata": {
        "id": "28Yb5im9roPk"
      },
      "outputs": [
        {
          "ename": "",
          "evalue": "",
          "output_type": "error",
          "traceback": [
            "\u001b[1;31mRunning cells with 'Python 3.11.7' requires the ipykernel package.\n",
            "\u001b[1;31mRun the following command to install 'ipykernel' into the Python environment. \n",
            "\u001b[1;31mCommand: 'c:/Users/cazem/AppData/Local/Programs/Python/Python311/python.exe -m pip install ipykernel -U --user --force-reinstall'"
          ]
        }
      ],
      "source": [
        "def rotacionar_imagem(imagem, angulo=90):\n",
        "    altura, largura = imagem.shape[:2]\n",
        "    ponto_central = (largura//2, altura//2)\n",
        "    matriz_rotacao = cv2.getRotationMatrix2D(ponto_central, angulo, 1.0)\n",
        "    return cv2.warpAffine(imagem, matriz_rotacao, (largura, altura)) if imagem is not None else None"
      ]
    },
    {
      "cell_type": "markdown",
      "metadata": {
        "id": "nwsaG3bkrqFq"
      },
      "source": [
        "## Testes e Visualização"
      ]
    },
    {
      "cell_type": "code",
      "execution_count": null,
      "metadata": {
        "colab": {
          "base_uri": "https://localhost:8080/"
        },
        "id": "OigyZ1q5tlht",
        "outputId": "840714de-a5b2-485b-ba28-01aede4abfbb"
      },
      "outputs": [
        {
          "ename": "",
          "evalue": "",
          "output_type": "error",
          "traceback": [
            "\u001b[1;31mRunning cells with 'Python 3.11.7' requires the ipykernel package.\n",
            "\u001b[1;31mRun the following command to install 'ipykernel' into the Python environment. \n",
            "\u001b[1;31mCommand: 'c:/Users/cazem/AppData/Local/Programs/Python/Python311/python.exe -m pip install ipykernel -U --user --force-reinstall'"
          ]
        }
      ],
      "source": [
        "dados = []\n",
        "image_paths = ['images/image_{}.jpg'.format(i) for i in range(len(urls))]\n",
        "for url, path in zip(urls, image_paths):\n",
        "  img_cinza = converter_para_cinza(path)\n",
        "  img_redimensionada = redimensionar(img_cinza)\n",
        "  img_bordas = detectar_bordas(img_redimensionada)\n",
        "  img_original = cv2.imread(path)\n",
        "  img_contraste = aumentar_contraste(img_original)\n",
        "  img_blur = aplicar_gaussian_blur(img_contraste)\n",
        "  img_rotacionada = rotacionar_imagem(img_original)\n",
        "  dados.append([path, img_cinza, img_redimensionada, img_bordas, img_contraste, img_blur, img_rotacionada])"
      ]
    },
    {
      "cell_type": "code",
      "execution_count": null,
      "metadata": {
        "id": "TWdJ7ssSrox1"
      },
      "outputs": [
        {
          "ename": "",
          "evalue": "",
          "output_type": "error",
          "traceback": [
            "\u001b[1;31mRunning cells with 'Python 3.11.7' requires the ipykernel package.\n",
            "\u001b[1;31mRun the following command to install 'ipykernel' into the Python environment. \n",
            "\u001b[1;31mCommand: 'c:/Users/cazem/AppData/Local/Programs/Python/Python311/python.exe -m pip install ipykernel -U --user --force-reinstall'"
          ]
        }
      ],
      "source": [
        "df = pd.DataFrame(dados, columns=['Path', 'Cinza', 'Redimensionada', 'Bordas', 'Contraste', 'Blur', 'Rotacionada'])"
      ]
    },
    {
      "cell_type": "markdown",
      "metadata": {
        "id": "szyB1EBmsNlA"
      },
      "source": [
        "### Testes"
      ]
    },
    {
      "cell_type": "code",
      "execution_count": null,
      "metadata": {
        "id": "03YroRafsGxj"
      },
      "outputs": [
        {
          "ename": "",
          "evalue": "",
          "output_type": "error",
          "traceback": [
            "\u001b[1;31mRunning cells with 'Python 3.11.7' requires the ipykernel package.\n",
            "\u001b[1;31mRun the following command to install 'ipykernel' into the Python environment. \n",
            "\u001b[1;31mCommand: 'c:/Users/cazem/AppData/Local/Programs/Python/Python311/python.exe -m pip install ipykernel -U --user --force-reinstall'"
          ]
        }
      ],
      "source": [
        "class TesteProcessamento(unittest.TestCase):\n",
        "    def test_redimensionamento(self):\n",
        "        for _, row in df.iterrows():\n",
        "            self.assertIsNotNone(row['Redimensionada'], \"Imagem redimensionada está vazia\")"
      ]
    },
    {
      "cell_type": "markdown",
      "metadata": {
        "id": "udoQpnwJsRQ3"
      },
      "source": [
        "### Visualização"
      ]
    },
    {
      "cell_type": "code",
      "execution_count": null,
      "metadata": {
        "colab": {
          "base_uri": "https://localhost:8080/",
          "height": 293
        },
        "id": "CbmL20mtsPJS",
        "outputId": "572b1b8c-013b-482d-bef2-6d94a962186d"
      },
      "outputs": [
        {
          "ename": "",
          "evalue": "",
          "output_type": "error",
          "traceback": [
            "\u001b[1;31mRunning cells with 'Python 3.11.7' requires the ipykernel package.\n",
            "\u001b[1;31mRun the following command to install 'ipykernel' into the Python environment. \n",
            "\u001b[1;31mCommand: 'c:/Users/cazem/AppData/Local/Programs/Python/Python311/python.exe -m pip install ipykernel -U --user --force-reinstall'"
          ]
        }
      ],
      "source": [
        "if __name__ == '__main__':\n",
        "    unittest.main(argv=['first-arg-is-ignored'], exit=False)\n",
        "\n",
        "df.head()"
      ]
    }
  ],
  "metadata": {
    "colab": {
      "provenance": []
    },
    "kernelspec": {
      "display_name": "Python 3",
      "name": "python3"
    },
    "language_info": {
      "codemirror_mode": {
        "name": "ipython",
        "version": 3
      },
      "file_extension": ".py",
      "mimetype": "text/x-python",
      "name": "python",
      "nbconvert_exporter": "python",
      "pygments_lexer": "ipython3",
      "version": "3.11.7"
    }
  },
  "nbformat": 4,
  "nbformat_minor": 0
}
