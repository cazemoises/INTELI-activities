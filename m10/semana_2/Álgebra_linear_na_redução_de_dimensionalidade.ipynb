{
  "cells": [
    {
      "cell_type": "code",
      "execution_count": 1,
      "metadata": {
        "id": "CFOuKfEcLTXI"
      },
      "outputs": [],
      "source": [
        "import pandas as pd\n",
        "import numpy as np\n",
        "import math"
      ]
    },
    {
      "cell_type": "markdown",
      "metadata": {
        "id": "rNhWUX4K9TFE"
      },
      "source": [
        "## Enunciado"
      ]
    },
    {
      "cell_type": "markdown",
      "metadata": {
        "id": "8oE0q3dn9UhK"
      },
      "source": [
        "Dada a seguinte matriz de covariância de duas variáveis X e Y:\n",
        "\n",
        "`Σ=[4 2\n",
        "2 3]`\n",
        "\n",
        "1. Calcule os autovalores da matriz de covariância Σ.\n",
        "2. Encontre os autovetores correspondentes aos autovalores calculados no item 1.\n",
        "3. Utilize os autovalores e autovetores para realizar uma Análise de Componentes Principais (PCA).\n",
        "4. Determine a proporção da variância explicada por cada componente principal.\n",
        "5. Proponha como os componentes principais podem ser usados para reduzir a dimensionalidade dos dados originais.\n",
        "Mostre todos os cálculos e explique cada passo do seu processo."
      ]
    },
    {
      "cell_type": "markdown",
      "metadata": {
        "id": "GFXca6-GMKYj"
      },
      "source": [
        "## Resolução"
      ]
    },
    {
      "cell_type": "markdown",
      "metadata": {
        "id": "CrEaxogn7Un3"
      },
      "source": [
        "### Calculando os autovalores e autovetores:"
      ]
    },
    {
      "cell_type": "code",
      "execution_count": 5,
      "metadata": {
        "colab": {
          "base_uri": "https://localhost:8080/"
        },
        "id": "IoVyxSwsLQ3u",
        "outputId": "f7d33bfa-c3d8-47d5-be21-67ac7b405754"
      },
      "outputs": [
        {
          "name": "stdout",
          "output_type": "stream",
          "text": [
            "Autovalores: [5.56155281 1.43844719]\n",
            "\n",
            "\n",
            "Autovetores: [[ 0.78820544 -0.61541221]\n",
            " [ 0.61541221  0.78820544]]\n"
          ]
        }
      ],
      "source": [
        "# Definindo a matriz de covariância\n",
        "covariance_matrix = np.array([[4, 2], [2, 3]])\n",
        "\n",
        "# Calculando os autovalores e autovetores\n",
        "eigenvalues, eigenvectors = np.linalg.eig(covariance_matrix)\n",
        "print(\"Autovalores:\", eigenvalues)\n",
        "print(\"\\n\")\n",
        "print(\"Autovetores:\", eigenvectors)"
      ]
    },
    {
      "cell_type": "markdown",
      "metadata": {
        "id": "BnuM73-B7Vq8"
      },
      "source": [
        "### Proporção da variância explicada"
      ]
    },
    {
      "cell_type": "code",
      "execution_count": 3,
      "metadata": {
        "colab": {
          "base_uri": "https://localhost:8080/"
        },
        "id": "Sv5PHTK77SSt",
        "outputId": "d55aec84-b859-499d-d929-ac8dd66720fc"
      },
      "outputs": [
        {
          "name": "stdout",
          "output_type": "stream",
          "text": [
            "Proporção da Variância Explicada: [0.79450754 0.20549246]\n"
          ]
        }
      ],
      "source": [
        "# Calculando a proporção da variância explicada por cada componente principal\n",
        "explained_variance_ratio = eigenvalues / np.sum(eigenvalues)\n",
        "print(\"Proporção da Variância Explicada:\", explained_variance_ratio)\n"
      ]
    },
    {
      "cell_type": "markdown",
      "metadata": {
        "id": "-o0cH-zk8HyV"
      },
      "source": [
        "## Discussão teórica sobre redução de dimensionalidade"
      ]
    },
    {
      "cell_type": "markdown",
      "metadata": {
        "id": "A2SEpAxt7yjg"
      },
      "source": [
        "Na prática, se eu tivesse acesso aos dados originais, poderia usar os autovetores pra projetar os dados nessas novas direções que são os componentes principais. A seleção de componentes pra manter se basearia na proporção da variância explicada: normalmente, os componentes principais que acumulam uma grande parte da variância total (por exemplo, 90%) seriam mantidos. Isso permite reduzir a dimensionalidade dos dados enquanto preserva as informações mais \"explicativas\".\n"
      ]
    }
  ],
  "metadata": {
    "colab": {
      "provenance": []
    },
    "kernelspec": {
      "display_name": "Python 3",
      "name": "python3"
    },
    "language_info": {
      "codemirror_mode": {
        "name": "ipython",
        "version": 3
      },
      "file_extension": ".py",
      "mimetype": "text/x-python",
      "name": "python",
      "nbconvert_exporter": "python",
      "pygments_lexer": "ipython3",
      "version": "3.11.7"
    }
  },
  "nbformat": 4,
  "nbformat_minor": 0
}
