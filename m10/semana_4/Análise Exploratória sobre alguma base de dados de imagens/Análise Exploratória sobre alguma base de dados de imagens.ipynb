{
 "cells": [
  {
   "cell_type": "code",
   "execution_count": 13,
   "metadata": {},
   "outputs": [],
   "source": [
    "from keras.utils import to_categorical, Sequence\n",
    "from glob import glob\n",
    "import matplotlib.image as img\n",
    "import matplotlib.pyplot as plt\n",
    "import numpy as np"
   ]
  },
  {
   "cell_type": "code",
   "execution_count": 14,
   "metadata": {},
   "outputs": [],
   "source": [
    "def import_images(path):\n",
    "  return (img.imread(path) / 255, to_categorical(int(path.split('/')[-2]), 14))"
   ]
  },
  {
   "cell_type": "markdown",
   "metadata": {},
   "source": [
    "## Creating the Sequence Object"
   ]
  },
  {
   "cell_type": "code",
   "execution_count": 19,
   "metadata": {},
   "outputs": [],
   "source": [
    "class SequenceGenerator(Sequence):\n",
    "\n",
    "  def __init__(self, entries, outputs, batch_size):\n",
    "    self.entries = entries\n",
    "    self.entries = outputs\n",
    "    self.batch_size = batch_size\n",
    "\n",
    "  def __len__(self):\n",
    "    return len(self.entries) // self.batch_size\n",
    "\n",
    "  def __getitem__(self, id):\n",
    "    esquerda = id * self.batch_size\n",
    "    direita = min(esquerda + self.batch_size, len(self.entries))\n",
    "    batch_entries = self.entries[esquerda:direita]\n",
    "    batch_outputs = self.outputs[esquerda:direita]\n",
    "\n",
    "    x = np.array([img.imread(caminho)/255 for caminho in batch_entries])\n",
    "    y = np.array([to_categorical(int(caminho.split('/')[-2]), 14) for caminho in batch_outputs])\n",
    "\n",
    "    return x, y"
   ]
  },
  {
   "cell_type": "code",
   "execution_count": 20,
   "metadata": {},
   "outputs": [],
   "source": [
    "paths = glob('./m10/semana_3/imagens/**/*.jpg')"
   ]
  },
  {
   "cell_type": "code",
   "execution_count": 21,
   "metadata": {},
   "outputs": [
    {
     "data": {
      "text/plain": [
       "[]"
      ]
     },
     "execution_count": 21,
     "metadata": {},
     "output_type": "execute_result"
    }
   ],
   "source": [
    "paths"
   ]
  },
  {
   "cell_type": "code",
   "execution_count": null,
   "metadata": {},
   "outputs": [],
   "source": []
  }
 ],
 "metadata": {
  "kernelspec": {
   "display_name": "Python 3",
   "language": "python",
   "name": "python3"
  },
  "language_info": {
   "codemirror_mode": {
    "name": "ipython",
    "version": 3
   },
   "file_extension": ".py",
   "mimetype": "text/x-python",
   "name": "python",
   "nbconvert_exporter": "python",
   "pygments_lexer": "ipython3",
   "version": "3.11.8"
  }
 },
 "nbformat": 4,
 "nbformat_minor": 2
}
